{
 "cells": [
  {
   "cell_type": "markdown",
   "metadata": {},
   "source": [
    "# Truthy Vs Falsey\n",
    "Python allows individual values to be evaluated to effectively Boolean (True/ False) values.\n",
    "\n",
    "To clarify this statement lets look at the following expressions:\n",
    "```\n",
    "x = 10\n",
    "s = ''\n",
    "\n",
    "# will this print?\n",
    "if x:\n",
    "  print(x)\n",
    "\n",
    "# how about this?\n",
    "while s:\n",
    "  print('Hello')\n",
    "  \n",
    "```"
   ]
  },
  {
   "cell_type": "code",
   "execution_count": 1,
   "metadata": {},
   "outputs": [
    {
     "name": "stdout",
     "output_type": "stream",
     "text": [
      "10\n"
     ]
    }
   ],
   "source": [
    "x = 10\n",
    "\n",
    "if x:\n",
    "    print(x)\n",
    "else:\n",
    "    print('Did not print x')"
   ]
  },
  {
   "cell_type": "code",
   "execution_count": 2,
   "metadata": {},
   "outputs": [
    {
     "name": "stdout",
     "output_type": "stream",
     "text": [
      "Did not print hello\n"
     ]
    }
   ],
   "source": [
    "s = ''\n",
    "\n",
    "while s:\n",
    "  print('Hello')\n",
    "else:\n",
    "    print('Did not print hello')\n",
    "  "
   ]
  },
  {
   "cell_type": "markdown",
   "metadata": {},
   "source": [
    "This is effectively the same as calling the buit-in bool() function on the object in question"
   ]
  },
  {
   "cell_type": "code",
   "execution_count": 3,
   "metadata": {},
   "outputs": [
    {
     "name": "stdout",
     "output_type": "stream",
     "text": [
      "True\n",
      "False\n"
     ]
    }
   ],
   "source": [
    "print(bool(x))\n",
    "print(bool(s))"
   ]
  },
  {
   "cell_type": "markdown",
   "metadata": {},
   "source": [
    "## But why?\n",
    "So, how or why does this happen?\n",
    "Python provides this functionality to allow for easy testing of objects. Think for a second the lengths you might have to go to if you didn't know the type of an incoming variable. You would have to test all the \"False\" values of the object just to be sure it contained useful data.\n",
    "```\n",
    "def func(x):\n",
    "  if x is not None and x != 0 and x != '' and x != False:\n",
    "      print(x)\n",
    "```"
   ]
  },
  {
   "cell_type": "markdown",
   "metadata": {},
   "source": [
    "## So what counts?\n",
    "All the built-in Types have a predefined notion of what counts as either truthy or False. The following are the Falsey values\n",
    "### Numbers\n",
    "zero for any numeric  \n",
    "  \n",
    "Int - 0  \n",
    "Float - 0.0  \n",
    "Complex - 0j  \n",
    "  \n",
    "### Constants\n",
    "None  \n",
    "False  \n",
    "\n",
    "### Strings\n",
    "Empty Strings  \n",
    "  \n",
    "bytestring - b''  \n",
    "string - ''  \n",
    "  \n",
    "### Container Types\n",
    "Empty containers  \n",
    "  \n",
    "dict - {}  \n",
    "list - []  \n",
    "tuple - ()  \n",
    "set - set()  \n",
    "\n",
    "### Extras\n",
    "Ranges - range(0)\n",
    "\n",
    "### Note:\n",
    "All user created objects are Truthy unless otherwise specified.\n",
    "\n",
    "\n"
   ]
  },
  {
   "cell_type": "code",
   "execution_count": 4,
   "metadata": {},
   "outputs": [
    {
     "name": "stdout",
     "output_type": "stream",
     "text": [
      "Numbers\n",
      "bool(0) False\n",
      "bool(1) True \n",
      "\n",
      "bool(0.0) False\n",
      "bool(5.6) True \n",
      "\n",
      "bool(0j) False\n",
      "bool(5j) True \n",
      "\n",
      "Constants\n",
      "bool(None) False\n",
      "bool(False) False \n",
      "\n",
      "bool(True) True\n",
      "Strings\n",
      "bool('') False\n",
      "bool('hello') True\n",
      "bool(b'') False\n",
      "bool(b'world') True \n",
      "\n",
      "Containers\n",
      "bool({}) False\n",
      "bool({'hello': 'world'}) True \n",
      "\n",
      "bool([]) False\n",
      "bool([1,2,3]) True\n",
      "bool(['']) True \n",
      "\n",
      "bool(()) False\n",
      "bool((1,2,3)) True \n",
      "\n",
      "bool(set()) False\n",
      "bool(set([1,2,3])) True \n",
      "\n",
      "Extras\n",
      "bool(range(0)) False\n",
      "bool(range(5)) True\n",
      "bool(test()) True\n"
     ]
    }
   ],
   "source": [
    "print('Numbers')\n",
    "print(\"bool(0)\", bool(0))\n",
    "print(\"bool(1)\", bool(1), '\\n')\n",
    "print(\"bool(0.0)\", bool(0.0))\n",
    "print(\"bool(5.6)\", bool(5.6), '\\n')\n",
    "print(\"bool(0j)\", bool(0j))\n",
    "print(\"bool(5j)\", bool(5j), '\\n')\n",
    "print('Constants')\n",
    "print(\"bool(None)\", bool(None))\n",
    "print(\"bool(False)\", bool(False), '\\n')\n",
    "print(\"bool(True)\", bool(True))\n",
    "print('Strings')\n",
    "print(\"bool('')\", bool(''))\n",
    "print(\"bool('hello')\", bool('hello'))\n",
    "print(\"bool(b'')\", bool(b''))\n",
    "print(\"bool(b'world')\", bool(b'world'), '\\n')\n",
    "print('Containers')\n",
    "print(\"bool({})\", bool({}))\n",
    "print(\"bool({'hello': 'world'})\", bool({'hello': 'world'}), '\\n')\n",
    "print(\"bool([])\", bool([]))\n",
    "print(\"bool([1,2,3])\", bool([1,2,3]))\n",
    "print(\"bool([''])\", bool(['']), '\\n')   # Notice that a list of empty strings is True\n",
    "print(\"bool(())\", bool(()))\n",
    "print(\"bool((1,2,3))\", bool((1,2,3)), '\\n')\n",
    "print(\"bool(set())\", bool(set()))\n",
    "print(\"bool(set([1,2,3]))\", bool(set([1,2,3])), '\\n')\n",
    "print('Extras')\n",
    "print(\"bool(range(0))\", bool(range(0)))\n",
    "print(\"bool(range(5))\", bool(range(5)))\n",
    "\n",
    "class test:\n",
    "    pass\n",
    "\n",
    "print(\"bool(test())\", bool(test()))      # User defined class"
   ]
  },
  {
   "cell_type": "markdown",
   "metadata": {},
   "source": [
    "## Advanced Usage\n",
    "The Python data model allows us to hook into this fuctionality with 2 \"magic methods\". They are `__bool__()` and `__len__()`. They are evaluated in that order respectively.  \n",
    "Note: This isn't used terriblly often but if you need it, it is possible."
   ]
  },
  {
   "cell_type": "code",
   "execution_count": 5,
   "metadata": {},
   "outputs": [],
   "source": [
    "def bool_(value):\n",
    "    if not value:\n",
    "        print(value, 'is False')\n",
    "    else:\n",
    "        print(value, 'is True')"
   ]
  },
  {
   "cell_type": "code",
   "execution_count": 6,
   "metadata": {},
   "outputs": [
    {
     "name": "stdout",
     "output_type": "stream",
     "text": [
      "<__main__.BoolTest object at 0x00000201B3EF4848> is False\n",
      "<__main__.LenTest object at 0x00000201B3EF4A88> is False\n"
     ]
    }
   ],
   "source": [
    "class BoolTest:\n",
    "    def __bool__(self):\n",
    "        return False\n",
    "\n",
    "class LenTest:\n",
    "    def __len__(self):\n",
    "        return 0\n",
    "\n",
    "t = BoolTest()\n",
    "l = LenTest()\n",
    "\n",
    "bool_(t)\n",
    "bool_(l)"
   ]
  },
  {
   "cell_type": "markdown",
   "metadata": {},
   "source": [
    "## Useful Examples"
   ]
  },
  {
   "cell_type": "code",
   "execution_count": 7,
   "metadata": {},
   "outputs": [
    {
     "name": "stdout",
     "output_type": "stream",
     "text": [
      "Status: 200 is True\n",
      "Status: 301 is True\n",
      "Status: 404 is False\n",
      "Status: 500 is False\n"
     ]
    }
   ],
   "source": [
    "class ResponseCode:\n",
    "    def __init__(self, code: int):\n",
    "        self.code = code\n",
    "\n",
    "    def __bool__(self):\n",
    "        if self.code < 400:\n",
    "            return True\n",
    "        else:\n",
    "            return False\n",
    "\n",
    "    def __str__(self):\n",
    "        return f'Status: {self.code}'\n",
    "\n",
    "ok_code = ResponseCode(200)\n",
    "redirect_code = ResponseCode(301)\n",
    "client_error = ResponseCode(404)\n",
    "server_error = ResponseCode(500)\n",
    "\n",
    "bool_(ok_code)\n",
    "bool_(redirect_code)\n",
    "bool_(client_error)\n",
    "bool_(server_error)"
   ]
  },
  {
   "cell_type": "code",
   "execution_count": 8,
   "metadata": {},
   "outputs": [
    {
     "name": "stdout",
     "output_type": "stream",
     "text": [
      "[, , , ] is False\n",
      "[, , , 1, hello, ] is True\n"
     ]
    }
   ],
   "source": [
    "class ListIgnoreEmptyStrings:\n",
    "    def __init__(self, *args):\n",
    "        self.l = list(args)\n",
    "\n",
    "    def __len__(self):\n",
    "        for ele in self.l:\n",
    "            if ele == '':\n",
    "                continue\n",
    "            else:\n",
    "                return True\n",
    "        return False\n",
    "\n",
    "    def __str__(self):\n",
    "        return f'[{\", \".join([str(ele) for ele in self.l])}]'\n",
    "\n",
    "e_str_list = ListIgnoreEmptyStrings('', '', '', '')\n",
    "other_stuff_list = ListIgnoreEmptyStrings('', '' ,'', 1 , 'hello', '')\n",
    "\n",
    "bool_(e_str_list)\n",
    "bool_(other_stuff_list)"
   ]
  },
  {
   "cell_type": "markdown",
   "metadata": {},
   "source": [
    "## References:\n",
    "  [FreeCodeCamp](https://www.freecodecamp.org/news/truthy-and-falsy-values-in-python/)  \n",
    "  [This Stackoverflow Answer](https://stackoverflow.com/a/39984051/9224678)"
   ]
  },
  {
   "cell_type": "code",
   "execution_count": null,
   "metadata": {},
   "outputs": [],
   "source": []
  }
 ],
 "metadata": {
  "kernelspec": {
   "display_name": "Python 3",
   "language": "python",
   "name": "python3"
  },
  "language_info": {
   "codemirror_mode": {
    "name": "ipython",
    "version": 3
   },
   "file_extension": ".py",
   "mimetype": "text/x-python",
   "name": "python",
   "nbconvert_exporter": "python",
   "pygments_lexer": "ipython3",
   "version": "3.7.4"
  }
 },
 "nbformat": 4,
 "nbformat_minor": 2
}
