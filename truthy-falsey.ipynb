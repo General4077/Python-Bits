{
 "metadata": {
  "language_info": {
   "codemirror_mode": {
    "name": "ipython",
    "version": 3
   },
   "file_extension": ".py",
   "mimetype": "text/x-python",
   "name": "python",
   "nbconvert_exporter": "python",
   "pygments_lexer": "ipython3",
   "version": "3.7.7-final"
  },
  "orig_nbformat": 2,
  "kernelspec": {
   "name": "python3",
   "display_name": "Python 3.7.7 64-bit ('test': conda)",
   "metadata": {
    "interpreter": {
     "hash": "1f17939f5fbec67af158657a695ef43de2a65b596ac12c40b66a5c64ab5d78ed"
    }
   }
  }
 },
 "nbformat": 4,
 "nbformat_minor": 2,
 "cells": [
  {
   "source": [
    "# Truthy Vs Falsey\n",
    "Python allows individual values to be evaluated to effectively Boolean (True/ False) values.\n",
    "\n",
    "To clarify this statement lets look at the following expressions:\n",
    "```\n",
    "x = 10\n",
    "s = ''\n",
    "\n",
    "# will this print?\n",
    "if x:\n",
    "  print(x)\n",
    "\n",
    "# how about this?\n",
    "while s:\n",
    "  print('Hello')\n",
    "  \n",
    "```\n"
   ],
   "cell_type": "markdown",
   "metadata": {}
  },
  {
   "cell_type": "code",
   "execution_count": 2,
   "metadata": {},
   "outputs": [
    {
     "output_type": "stream",
     "name": "stdout",
     "text": [
      "10\n"
     ]
    }
   ],
   "source": [
    "x = 10\n",
    "\n",
    "if x:\n",
    "    print(x)\n",
    "else:\n",
    "    print('Did not print x')"
   ]
  },
  {
   "cell_type": "code",
   "execution_count": 7,
   "metadata": {},
   "outputs": [
    {
     "output_type": "stream",
     "name": "stdout",
     "text": [
      "Did not print hello\n"
     ]
    }
   ],
   "source": [
    "s = ''\n",
    "\n",
    "while s:\n",
    "  print('Hello')\n",
    "else:\n",
    "    print('Did not print hello')\n",
    "  "
   ]
  },
  {
   "source": [
    "## But why?\n",
    "So, how or why does this happen?\n",
    "Python provides this functionality to allow for easy testing of objects. Think for a second the lengths you might have to go to if you didn't know the type of an incoming variable. You would have to test all the \"False\" values of the object just to be sure it contained useful data.\n",
    "```\n",
    "def func(x):\n",
    "  if x is not None and x != 0 and x != '' and "
   ],
   "cell_type": "markdown",
   "metadata": {}
  },
  {
   "cell_type": "code",
   "execution_count": 14,
   "metadata": {},
   "outputs": [
    {
     "output_type": "stream",
     "name": "stdout",
     "text": [
      "1\n"
     ]
    }
   ],
   "source": [
    "class test:\n",
    "    def __bool__(self):\n",
    "        return True\n",
    "    def __len__(self):\n",
    "        return True\n",
    "\n",
    "t = test()\n",
    "\n",
    "if t:\n",
    "    print(len(t))"
   ]
  },
  {
   "cell_type": "code",
   "execution_count": null,
   "metadata": {},
   "outputs": [],
   "source": []
  },
  {
   "cell_type": "code",
   "execution_count": null,
   "metadata": {},
   "outputs": [],
   "source": []
  },
  {
   "source": [
    "## References:\n",
    "  [FreeCodeCamp](https://www.freecodecamp.org/news/truthy-and-falsy-values-in-python/)  \n",
    "  [This Stackoverflow Answer](https://stackoverflow.com/a/39984051/9224678)"
   ],
   "cell_type": "markdown",
   "metadata": {}
  },
  {
   "cell_type": "code",
   "execution_count": null,
   "metadata": {},
   "outputs": [],
   "source": []
  }
 ]
}